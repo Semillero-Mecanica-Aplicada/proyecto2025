{
 "cells": [
  {
   "cell_type": "code",
   "execution_count": null,
   "metadata": {},
   "outputs": [
    {
     "name": "stdout",
     "output_type": "stream",
     "text": [
      "Semilla utilizada: 1746913394\n"
     ]
    }
   ],
   "source": [
    "import numpy as np\n",
    "import time\n",
    "import matplotlib.pyplot as plt\n",
    "\n",
    "\n",
    "#Generar una semilla basada en el tiempo actual\n",
    "seed = int(time.time())  \n",
    "np.random.seed(seed)\n",
    "\n",
    "print(f\"Semilla utilizada: {seed}\")\n",
    "#np.random.seed(1746913394)\n"
   ]
  },
  {
   "cell_type": "code",
   "execution_count": 2,
   "metadata": {},
   "outputs": [],
   "source": [
    "def generate_random_image(size=(64, 64)):\n",
    "    return np.random.choice([0, 1], size, p=[0.5, 0.5]).astype(np.uint8)\n",
    "\n",
    "\n",
    "#img = np.load(\"images.npz\")\n",
    "#images = img[\"arr_0\"]\n",
    "#tipo = np.load(\"rng_tipo.npy\")\n",
    "#matrix = np.load(\"rng_matrix.npy\")\n",
    "#valad1 = np.load(\"rng_valad1.npy\")\n",
    "#valad2 = np.load(\"rng_valad2.npy\")\n",
    "#valad3 = np.load(\"rng_valad3.npy\")\n",
    "#rng_state = (tipo, matrix, valad1, valad2, valad3)\n",
    "#np.random.set_state(rng_state)"
   ]
  },
  {
   "cell_type": "code",
   "execution_count": 3,
   "metadata": {},
   "outputs": [],
   "source": [
    "\n",
    "#plt.imshow(images[0], cmap=\"gray\", vmin=0, vmax=255)\n",
    "#plt.axis(\"off\")  \n",
    "#plt.title(\"Primera imagen generada\")\n",
    "#plt.show()\n"
   ]
  },
  {
   "cell_type": "code",
   "execution_count": null,
   "metadata": {},
   "outputs": [
    {
     "data": {
      "image/png": "[encoded data removed]",
      "text/plain": [
       "<Figure size 640x480 with 1 Axes>"
      ]
     },
     "metadata": {},
     "output_type": "display_data"
    },
    {
     "data": {
      "text/plain": [
       "<Figure size 640x480 with 0 Axes>"
      ]
     },
     "metadata": {},
     "output_type": "display_data"
    }
   ],
   "source": [
    "\n",
    "images = [generate_random_image() for _ in range(500000)]\n",
    "#images = np.concatenate((images, new_images))\n",
    "images0_125 = images[:125000]\n",
    "images125_250 = images[125000:250000]\n",
    "images250_375 = images[250000:375000]\n",
    "images375_500 = images[375000:500001]\n",
    "rng_state = np.random.get_state()\n",
    "np.save(\"rng_tipo.npy\", rng_state[0])\n",
    "np.save(\"rng_matrix.npy\", rng_state[1])\n",
    "np.save(\"rng_valad1.npy\", rng_state[2])\n",
    "np.save(\"rng_valad2.npy\", rng_state[3])\n",
    "np.save(\"rng_valad3.npy\", rng_state[4])\n",
    "np.savez_compressed(\"images0_125.npz\", images0_125)\n",
    "np.savez_compressed(\"images125_250.npz\", images125_250)\n",
    "np.savez_compressed(\"images250_375.npz\", images250_375)\n",
    "np.savez_compressed(\"images375_500.npz\", images375_500)\n",
    "\n",
    "\n",
    "plt.imshow(images[0], cmap=\"gray\")\n",
    "plt.axis(\"off\")\n"
   ]
  },
  {
   "cell_type": "code",
   "execution_count": 5,
   "metadata": {},
   "outputs": [
    {
     "name": "stdout",
     "output_type": "stream",
     "text": [
      "500000\n"
     ]
    }
   ],
   "source": [
    "print(len(images))"
   ]
  },
  {
   "cell_type": "code",
   "execution_count": 6,
   "metadata": {},
   "outputs": [
    {
     "name": "stdout",
     "output_type": "stream",
     "text": [
      "Todas las imágenes son únicas\n"
     ]
    }
   ],
   "source": [
    "# Usar un set para guardar las versiones serializadas\n",
    "hashes = set()\n",
    "repetido = False\n",
    "\n",
    "for img in images:\n",
    "    # Convertimos cada imagen a una tupla inmutable para poder guardarla en un set\n",
    "    h = hash(img.tobytes())  # También puedes usar tuple(img.flatten()) si prefieres\n",
    "    if h in hashes:\n",
    "        repetido = True\n",
    "        break\n",
    "    hashes.add(h)\n",
    "\n",
    "print(\"Hay imágenes repetidas\" if repetido else \"Todas las imágenes son únicas\")\n"
   ]
  }
 ],
 "metadata": {
  "kernelspec": {
   "display_name": "Python 3",
   "language": "python",
   "name": "python3"
  },
  "language_info": {
   "codemirror_mode": {
    "name": "ipython",
    "version": 3
   },
   "file_extension": ".py",
   "mimetype": "text/x-python",
   "name": "python",
   "nbconvert_exporter": "python",
   "pygments_lexer": "ipython3",
   "version": "3.11.9"
  }
 },
 "nbformat": 4,
 "nbformat_minor": 2
}
